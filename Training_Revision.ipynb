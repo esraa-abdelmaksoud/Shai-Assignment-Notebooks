{
  "cells": [
    {
      "cell_type": "markdown",
      "metadata": {
        "id": "view-in-github",
        "colab_type": "text"
      },
      "source": [
        "<a href=\"https://colab.research.google.com/github/esraa-abdelmaksoud/Shai-Assignment-Notebooks/blob/main/Training_Revision.ipynb\" target=\"_parent\"><img src=\"https://colab.research.google.com/assets/colab-badge.svg\" alt=\"Open In Colab\"/></a>"
      ]
    },
    {
      "cell_type": "markdown",
      "id": "70fd97eb",
      "metadata": {
        "id": "70fd97eb"
      },
      "source": [
        "# Python Revision"
      ]
    },
    {
      "cell_type": "markdown",
      "id": "cf18006f",
      "metadata": {
        "id": "cf18006f"
      },
      "source": [
        "## Introduction and Statements:"
      ]
    },
    {
      "cell_type": "code",
      "execution_count": null,
      "id": "36b87ce5",
      "metadata": {
        "id": "36b87ce5"
      },
      "outputs": [],
      "source": [
        "print(\"Hello, welcome to shAI Machine Learning Course 2022!\")"
      ]
    },
    {
      "cell_type": "code",
      "execution_count": null,
      "id": "439ce63f",
      "metadata": {
        "id": "439ce63f"
      },
      "outputs": [],
      "source": [
        "statement = input(\"Enter your statement: \")\n",
        "\n",
        "print(\"Thank you for saying: \" + statement)"
      ]
    },
    {
      "cell_type": "markdown",
      "id": "e5ee38af",
      "metadata": {
        "id": "e5ee38af"
      },
      "source": [
        "## Basic Datatypes:"
      ]
    },
    {
      "cell_type": "markdown",
      "id": "60ea5427",
      "metadata": {
        "id": "60ea5427"
      },
      "source": [
        "### Numerical Datatypes:"
      ]
    },
    {
      "cell_type": "code",
      "execution_count": null,
      "id": "d486a9aa",
      "metadata": {
        "id": "d486a9aa"
      },
      "outputs": [],
      "source": [
        "a = 5\n",
        "b = 2.3\n",
        "c = -10.6\n",
        "d = 3\n",
        "\n",
        "print(a)\n",
        "print(b)\n",
        "print(c)\n",
        "print(a,b,c)"
      ]
    },
    {
      "cell_type": "markdown",
      "id": "9552bbb2",
      "metadata": {
        "id": "9552bbb2"
      },
      "source": [
        "#### Operations on Numbers:"
      ]
    },
    {
      "cell_type": "code",
      "execution_count": null,
      "id": "1c89074c",
      "metadata": {
        "id": "1c89074c"
      },
      "outputs": [],
      "source": [
        "# Addition:\n",
        "print(a+b)\n",
        "# Subtraction:\n",
        "print(b-c)\n",
        "# Multiplication:\n",
        "print(a*c)\n",
        "#Division - remember not to divide over zero!\n",
        "print(a/b)\n",
        "# Integer Division:\n",
        "print(a//b)\n",
        "# Exponents:\n",
        "print(a**2)\n",
        "# Modulus:\n",
        "print(a%d)\n",
        "\n",
        "# Order of operations: check https://docs.python.org/3/reference/expressions.html#operator-precedence\n",
        "# The same order of mathematical operations, but with more details regarding programming expressions."
      ]
    },
    {
      "cell_type": "markdown",
      "id": "604b9867",
      "metadata": {
        "id": "604b9867"
      },
      "source": [
        "#### Strings:"
      ]
    },
    {
      "cell_type": "code",
      "execution_count": null,
      "id": "95eed50a",
      "metadata": {
        "id": "95eed50a"
      },
      "outputs": [],
      "source": [
        "s = \"This is a string.\"\n",
        "s1 = \"name\"\n",
        "s2 = \"3512\"\n",
        "s3 = \"dd/mm/yyyy\"\n",
        "\n",
        "# Strings are used to store entire words, made up of characters. Characters could be letters, \n",
        "# numbers, or special characters.\n",
        "\n",
        "print(s)\n",
        "print(s1 + s2)"
      ]
    },
    {
      "cell_type": "markdown",
      "id": "53b1ba3b",
      "metadata": {
        "id": "53b1ba3b"
      },
      "source": [
        "### Booleans\n",
        "Booleans are the simplest of datatypes, it basically stores only `True` and `False`. \n",
        "Note that `True` and `False` keywords are case-sensitive, as most programming languages are."
      ]
    },
    {
      "cell_type": "code",
      "execution_count": null,
      "id": "bef73543",
      "metadata": {
        "id": "bef73543"
      },
      "outputs": [],
      "source": [
        "print(True) # notice the color change.\n",
        "b = False\n",
        "print(b)"
      ]
    },
    {
      "cell_type": "markdown",
      "id": "be2d3ecc",
      "metadata": {
        "id": "be2d3ecc"
      },
      "source": [
        "#### Lists, Tuples, and Dictionaries:"
      ]
    },
    {
      "cell_type": "markdown",
      "id": "c517a181",
      "metadata": {
        "id": "c517a181"
      },
      "source": [
        "##### Lists:"
      ]
    },
    {
      "cell_type": "code",
      "execution_count": null,
      "id": "81cc0daf",
      "metadata": {
        "id": "81cc0daf"
      },
      "outputs": [],
      "source": [
        "names = [\"Ahmad\", \"Abdullah\",\"Khaled\",\"Dima\"]\n",
        "print(names[2])\n",
        "\n",
        "prices = [50,3,15,32,564,97,84]\n",
        "print(prices)\n",
        "\n",
        "# Editing lists:\n",
        "names.append(\"Anas\")\n",
        "print(names)\n",
        "\n",
        "names.insert(3,\"Hamed\")\n",
        "print(names)\n",
        "\n",
        "names[1] = \"Not Abdullah\"\n",
        "print(names)"
      ]
    },
    {
      "cell_type": "markdown",
      "id": "56408bf2",
      "metadata": {
        "id": "56408bf2"
      },
      "source": [
        "##### Tuples:"
      ]
    },
    {
      "cell_type": "code",
      "execution_count": null,
      "id": "c2a2e3c3",
      "metadata": {
        "id": "c2a2e3c3"
      },
      "outputs": [],
      "source": [
        "student0 = (\"Abdullah\", 1093241)\n",
        "student1 = (\"Khalil\", 1531253)\n",
        "\n",
        "print(student0[0])\n",
        "print(student1[1])\n",
        "print()\n",
        "# Editing tuples:\n",
        "student0[1] = 1561215 # ??? TypeError?\n",
        "\n",
        "# If you can't edit tuples, then why use them?"
      ]
    },
    {
      "cell_type": "markdown",
      "id": "51240f8c",
      "metadata": {
        "id": "51240f8c"
      },
      "source": [
        "##### Dictionaries:"
      ]
    },
    {
      "cell_type": "code",
      "execution_count": null,
      "id": "ee1f990c",
      "metadata": {
        "id": "ee1f990c"
      },
      "outputs": [],
      "source": [
        "items = {\"SSD\": 4, \"RAM\": 6, \"Monitor\": 3}\n",
        "\n",
        "items[\"SSD\"]\n",
        "\n",
        "items[\"Mouse\"] = 5\n",
        "print(items)"
      ]
    },
    {
      "cell_type": "markdown",
      "id": "d6662dfb",
      "metadata": {
        "id": "d6662dfb"
      },
      "source": [
        "### Concatenating and Accessing Data/DataTypes:\n",
        "Some datatypes can store different values at the same time, and we access those different values using indices. But what if we want to deal with 2 differnt datatypes at the same time? Like `strings` and `integers`, as an example? Let's find out."
      ]
    },
    {
      "cell_type": "markdown",
      "id": "315a17cd",
      "metadata": {
        "id": "315a17cd"
      },
      "source": [
        "#### Accessing Lists:"
      ]
    },
    {
      "cell_type": "code",
      "execution_count": null,
      "id": "e4501221",
      "metadata": {
        "id": "e4501221"
      },
      "outputs": [],
      "source": [
        "# Strings are considered lists of characters, so whatever applies to lists, applies to strings as well.\n",
        "\n",
        "# Accessing a single element: l[index], as indexing starts from 0\n",
        "l = [1,56,2,1,52,14,51,4]\n",
        "print(l[0],l[1],l[5])"
      ]
    },
    {
      "cell_type": "markdown",
      "id": "2be4ee06",
      "metadata": {
        "id": "2be4ee06"
      },
      "source": [
        "#### Slicing:"
      ]
    },
    {
      "cell_type": "code",
      "execution_count": null,
      "id": "c990fa42",
      "metadata": {
        "id": "c990fa42"
      },
      "outputs": [],
      "source": [
        "# Slicing (accessing a range of elements):\n",
        "print(l[1:4])\n",
        "# Notice that the slice starts from index 1 (inclusive) and ends at index 4 (exclusive).\n",
        "\n",
        "name = \"John Doe\"\n",
        "print(name[2:])\n",
        "print(name[:7])\n",
        "print(name[-1])\n",
        "print(name[-2])\n",
        "print(name[-4:-1])\n",
        "print(name[:-1])\n",
        "# The negative indices of the list means the list is now reversed, and we can\n",
        "# access its content in the other direction.\n",
        "# index: -4  -3 -2 -1  0  1  2  3\n",
        "# value: ' '  D  o  e  J  o  h  n"
      ]
    },
    {
      "cell_type": "markdown",
      "id": "e609ed44",
      "metadata": {
        "id": "e609ed44"
      },
      "source": [
        "#### Concatenation and Casting"
      ]
    },
    {
      "cell_type": "code",
      "execution_count": null,
      "id": "daaec1c1",
      "metadata": {
        "id": "daaec1c1"
      },
      "outputs": [],
      "source": [
        "# Sometimes, it's necessary to mix data types into one variable.\n",
        "s = \"My name is: \"\n",
        "name = \"Abdullah\"\n",
        "\n",
        "print(s + name)"
      ]
    },
    {
      "cell_type": "code",
      "execution_count": null,
      "id": "fe453cad",
      "metadata": {
        "id": "fe453cad"
      },
      "outputs": [],
      "source": [
        "#OR:\n",
        "string = s + name\n",
        "print(string)\n",
        "\n",
        "# This is called Concatenation"
      ]
    },
    {
      "cell_type": "code",
      "execution_count": null,
      "id": "80b7b57b",
      "metadata": {
        "id": "80b7b57b"
      },
      "outputs": [],
      "source": [
        "# What about other data types?\n",
        "age = 20\n",
        "s = \"My age is: \"\n",
        "print(s + age)\n",
        "\n",
        "# Mmmm, TypeError again?"
      ]
    },
    {
      "cell_type": "markdown",
      "id": "6be7dd0d",
      "metadata": {
        "id": "6be7dd0d"
      },
      "source": [
        "In order to use an integer with the string, we need to cast the datatype `int` to `str`. This operation is called casting, and it is used to make datatypes behave in a different way."
      ]
    },
    {
      "cell_type": "code",
      "execution_count": null,
      "id": "6ee2522d",
      "metadata": {
        "id": "6ee2522d"
      },
      "outputs": [],
      "source": [
        "# For this example, we'll cast the integer to a string type.\n",
        "age = 20\n",
        "s = \"My age is: \"\n",
        "print(s + str(age))"
      ]
    },
    {
      "cell_type": "code",
      "execution_count": null,
      "id": "a0740674",
      "metadata": {
        "id": "a0740674"
      },
      "outputs": [],
      "source": [
        "# Let's take it up a notch.\n",
        "# How would I print \"I am 20 years old.\" (without quotes), without declaring any string variables?"
      ]
    },
    {
      "cell_type": "markdown",
      "id": "072a8f01",
      "metadata": {
        "id": "072a8f01"
      },
      "source": [
        "## Conditionals\n",
        "Sometimes, we have different cases, and we want the program to deal with those different cases. We use `if`, `elseif`, and `else` in order to deal with different cases."
      ]
    },
    {
      "cell_type": "code",
      "execution_count": null,
      "id": "3441e58a",
      "metadata": {
        "id": "3441e58a"
      },
      "outputs": [],
      "source": [
        "if (True):\n",
        "    print(\"This is True!\")\n",
        "    # whatever code related to the if statement should be indented this way.\n",
        "    # note that the indentation should be constant throughout the entire code.\n",
        "    # HINT: Use tabs, not spaces!"
      ]
    },
    {
      "cell_type": "code",
      "execution_count": null,
      "id": "6b5f84c4",
      "metadata": {
        "id": "6b5f84c4"
      },
      "outputs": [],
      "source": [
        "# We want to know the rating of a student who scored a specific grade.\n",
        "grade = input(\"Enter your grade: \")\n",
        "grade = int(grade)\n",
        "if grade >= 90:\n",
        "    print(\"Rating: A\")\n",
        "    # Notice the indentation.\n",
        "elif grade >= 85: # This is the elseif command\n",
        "    print(\"Rating: A-\")\n",
        "elif grade >= 80:\n",
        "    print(\"Rating: B+\")\n",
        "elif grade >= 75:\n",
        "    print(\"Rating: B\")\n",
        "elif grade >= 70:\n",
        "    print(\"Rating: B-\")\n",
        "elif grade >= 65:\n",
        "    print(\"Rating: C+\")\n",
        "elif grade >= 60:\n",
        "    print(\"Rating: C\")\n",
        "elif grade >= 55:\n",
        "    print(\"Rating: C-\")\n",
        "else:\n",
        "    print(\"FAIL\")\n"
      ]
    },
    {
      "cell_type": "markdown",
      "id": "365b4e54",
      "metadata": {
        "id": "365b4e54"
      },
      "source": [
        "## Loops and Iteration"
      ]
    },
    {
      "cell_type": "markdown",
      "id": "b0d0a16e",
      "metadata": {
        "id": "b0d0a16e"
      },
      "source": [
        "In order to repeat commands and processes, we use loops to go over a `range` of `iterable` elements.\n",
        "\n",
        "Iterable elements are elements that you can run an iteration over, in order to access their values. We can choose to go over the range of the elements to do certain tasks.\n",
        "\n",
        "Iterable datatypes:\n",
        "- Lists\n",
        "- Tuples\n",
        "- Dictionaries\n",
        "- Strings\n",
        "- Etc...\n",
        "\n",
        "Non-Iterable datatypes:\n",
        "- Integers\n",
        "- Constant numbers"
      ]
    },
    {
      "cell_type": "markdown",
      "id": "1ee83a58",
      "metadata": {
        "id": "1ee83a58"
      },
      "source": [
        "Base code for any for loop\n",
        "```python\n",
        "for element in iterable_data:\n",
        "    # do code\n",
        "    # do more code\n",
        "# this is outside the loop\n",
        "```"
      ]
    },
    {
      "cell_type": "code",
      "execution_count": null,
      "id": "d7a4d8ae",
      "metadata": {
        "id": "d7a4d8ae"
      },
      "outputs": [],
      "source": [
        "# Let's use the name list again.\n",
        "names = [\"Ahmad\", \"Abdullah\",\"Khaled\",\"Dima\"]\n",
        "for name in names:\n",
        "    print(\"Hello, \" + name + \"!\")\n",
        "print(\"That's all of them.\")"
      ]
    },
    {
      "cell_type": "code",
      "execution_count": null,
      "id": "7ec4b342",
      "metadata": {
        "id": "7ec4b342"
      },
      "outputs": [],
      "source": [
        "# What if we do this? And why does this happen? \n",
        "for number in 25:\n",
        "    print(\"Welcome!\")\n",
        "print(\"Done!\")\n",
        "\n",
        "# Do you know how to solve this? If you don't, consider it an assignment!"
      ]
    },
    {
      "cell_type": "markdown",
      "id": "04dbf657",
      "metadata": {
        "id": "04dbf657"
      },
      "source": [
        "## Defining Functions\n",
        "Repetitive code makes the code look dirty, and sometimes, we need to define our own functions to do certain tasks. Let's define a function that prints the squares of a list of numbers."
      ]
    },
    {
      "cell_type": "markdown",
      "id": "4704bb9b",
      "metadata": {
        "id": "4704bb9b"
      },
      "source": [
        "Base form of a function definition:\n",
        "```python\n",
        "def function_name (input_params):\n",
        "    # do some task\n",
        "# this is outside the function.\n",
        "```"
      ]
    },
    {
      "cell_type": "code",
      "execution_count": null,
      "id": "50cd051f",
      "metadata": {
        "id": "50cd051f"
      },
      "outputs": [],
      "source": [
        "def sq(some_list):\n",
        "    for number in some_list:\n",
        "        print(number ** 2, end = \" \") # the \"end\" parameter is to decide what to do after each print.\n",
        "        # here, it does not start a new line, but instead, prints an empty space.\n",
        "\n",
        "l = [4,8,2,8,1,8,2,4,8,2,9,2,4,1,6,1,5]\n",
        "\n",
        "sq(l) # this \"calls\" the function"
      ]
    },
    {
      "cell_type": "markdown",
      "id": "5afe6b29",
      "metadata": {
        "id": "5afe6b29"
      },
      "source": [
        "## Modules\n",
        "While python has many built in functions, datatypes, and methods, some open source modules (or user-defined) offer even more functionality. In order to use them, we use the `import` keyword with the name of the module we want to import. Luckily, Google Colab has them all, all you need is to import them using this code."
      ]
    },
    {
      "cell_type": "code",
      "execution_count": null,
      "id": "48ec2136",
      "metadata": {
        "id": "48ec2136"
      },
      "outputs": [],
      "source": [
        "import numpy\n",
        "a = numpy.zeros(4) # this is a completely new and very useful method!\n",
        "print(a)\n",
        "print(type(a)) # you'll learn more about the numpy module later in this course."
      ]
    },
    {
      "cell_type": "markdown",
      "id": "e2420eee",
      "metadata": {
        "id": "e2420eee"
      },
      "source": [
        "## Help Function\n",
        "It's extremely difficult to know everything about everything, and memorizing certainly isn't required in programming. So, to read the `documentation` of any function, datatype, or method, you can access it using the `help` function. For example, documentation over classes and datatypes prints the available methods for each datatype."
      ]
    },
    {
      "cell_type": "code",
      "execution_count": null,
      "id": "d255d5f8",
      "metadata": {
        "id": "d255d5f8"
      },
      "outputs": [],
      "source": [
        "# Let's define a few variables.\n",
        "l = [1,2,5,2,4,6,1,4,9,7,9,6,8,2,4,8]\n",
        "word = \"Word\"\n",
        "help(l)\n",
        "# Try running dir(l), and search online to know the difference."
      ]
    },
    {
      "cell_type": "code",
      "execution_count": null,
      "id": "87f298cd",
      "metadata": {
        "id": "87f298cd"
      },
      "outputs": [],
      "source": [
        "help(str)"
      ]
    },
    {
      "cell_type": "markdown",
      "id": "ef47f3c8",
      "metadata": {
        "id": "ef47f3c8"
      },
      "source": [
        "## Useful Methods\n",
        "There are a few methods that are useful in python, most of them are methods to the `list` datatype. Throughout this course, you'll learn more methods to more methods regarding advanced datatypes and classes, like matplotlib, seaborn, and more."
      ]
    },
    {
      "cell_type": "code",
      "execution_count": null,
      "id": "c0048471",
      "metadata": {
        "id": "c0048471"
      },
      "outputs": [],
      "source": [
        "# Let's define a list/string first.\n",
        "list_0 = [\"This\",156,\"is a list\",True,\"but very random.\"]"
      ]
    },
    {
      "cell_type": "markdown",
      "id": "4699dc04",
      "metadata": {
        "id": "4699dc04"
      },
      "source": [
        "### .append() method\n",
        "we use it to add a value to the **end** of any list."
      ]
    },
    {
      "cell_type": "code",
      "execution_count": null,
      "id": "e178aa9f",
      "metadata": {
        "id": "e178aa9f"
      },
      "outputs": [],
      "source": [
        "list_0.append(\"this is extra\")\n",
        "print(list_0)"
      ]
    },
    {
      "cell_type": "markdown",
      "id": "a8c3ba30",
      "metadata": {
        "id": "a8c3ba30"
      },
      "source": [
        "### .remove() method\n",
        "we use it to remove a value using the **value itself**."
      ]
    },
    {
      "cell_type": "code",
      "execution_count": null,
      "id": "6d1a08fa",
      "metadata": {
        "id": "6d1a08fa"
      },
      "outputs": [],
      "source": [
        "list_0.remove(\"this is extra\")\n",
        "print(list_0)"
      ]
    },
    {
      "cell_type": "code",
      "execution_count": null,
      "id": "d1d66d92",
      "metadata": {
        "id": "d1d66d92"
      },
      "outputs": [],
      "source": [
        "# but what if we do it again, and remove something that doesn't exits?\n",
        "list_0.remove(\"this is extra\")\n",
        "print(list_0)\n",
        "# Yet another ValueError..."
      ]
    },
    {
      "cell_type": "markdown",
      "id": "79580671",
      "metadata": {
        "id": "79580671"
      },
      "source": [
        "### del command\n",
        "we use this to delete entire lists or parts of lists, but uses **indices** not **the actual value**."
      ]
    },
    {
      "cell_type": "code",
      "execution_count": null,
      "id": "36914268",
      "metadata": {
        "id": "36914268"
      },
      "outputs": [],
      "source": [
        "del list_0[0]\n",
        "print(list_0)"
      ]
    },
    {
      "cell_type": "code",
      "execution_count": null,
      "id": "98208ff3",
      "metadata": {
        "id": "98208ff3"
      },
      "outputs": [],
      "source": [
        "# Let's say goodbye to list_0\n",
        "del list_0\n",
        "print(list_0)\n",
        "# Goodbye, list_0..."
      ]
    },
    {
      "cell_type": "markdown",
      "id": "ca8b14c3",
      "metadata": {
        "id": "ca8b14c3"
      },
      "source": [
        "### len function\n",
        "we use this function to know how many elements there are in a list."
      ]
    },
    {
      "cell_type": "code",
      "execution_count": null,
      "id": "5cb7b58e",
      "metadata": {
        "id": "5cb7b58e"
      },
      "outputs": [],
      "source": [
        "# .. and hello list_1\n",
        "list_1 = [\"this is\", \"yet\",\"another\",51651,False,\"messy list\"]\n",
        "print(len(list_1))"
      ]
    }
  ],
  "metadata": {
    "kernelspec": {
      "display_name": "Python 3",
      "language": "python",
      "name": "python3"
    },
    "language_info": {
      "codemirror_mode": {
        "name": "ipython",
        "version": 3
      },
      "file_extension": ".py",
      "mimetype": "text/x-python",
      "name": "python",
      "nbconvert_exporter": "python",
      "pygments_lexer": "ipython3",
      "version": "3.8.8"
    },
    "colab": {
      "name": "Training_Revision.ipynb",
      "provenance": [],
      "include_colab_link": true
    }
  },
  "nbformat": 4,
  "nbformat_minor": 5
}